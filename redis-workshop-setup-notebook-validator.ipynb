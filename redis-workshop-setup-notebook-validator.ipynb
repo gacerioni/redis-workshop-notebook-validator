{
  "cells": [
    {
      "cell_type": "markdown",
      "metadata": {
        "id": "view-in-github",
        "colab_type": "text"
      },
      "source": [
        "<a href=\"https://colab.research.google.com/github/gacerioni/redis-workshop-notebook-validator/blob/master/redis-workshop-setup-notebook-validator.ipynb\" target=\"_parent\"><img src=\"https://colab.research.google.com/assets/colab-badge.svg\" alt=\"Open In Colab\"/></a>"
      ]
    },
    {
      "cell_type": "markdown",
      "metadata": {
        "id": "MvZnhXr0L3K3"
      },
      "source": [
        "# Preparando o ambiente para o Workshop\n",
        "\n",
        "![Redis](https://redis.com/wp-content/themes/wpx/assets/images/logo-redis.svg?auto=webp&quality=85,75&width=120)\n",
        "\n",
        "Este notebook, assim como os outros aqui no tutorial, foram desenhados para rodar com Redis Stack ou Redis Cloud. Isso simplifica as coisas, sem adicionar complexidade alguma.\n",
        "Entretanto, podemos usar a instância de Redis que iremos instalar durante o SETUP (este notebook que você está lendo agora).\n",
        "\n",
        "Para provisionar uma instância free-forever do Redis Cloud, e eu acredito que isso seja uma ótima ideia:\n",
        "- Acesse https://redis.com/try-free/\n",
        "- Registre com o seu email (gmail é uma boa pedida)\n",
        "- Crie a subscription with do free tier (não precisa de cartão de crédito, sem gotchas)\n",
        "- Crie um db habilitando as features do RedisStack (JSON, por exemplo)."
      ]
    },
    {
      "cell_type": "code",
      "execution_count": null,
      "metadata": {
        "colab": {
          "base_uri": "https://localhost:8080/"
        },
        "id": "maAiICvM-cTX",
        "outputId": "49c870dd-af0d-4f89-fb33-a730f555a25d"
      },
      "outputs": [
        {
          "output_type": "stream",
          "name": "stdout",
          "text": [
            "\u001b[?25l     \u001b[90m━━━━━━━━━━━━━━━━━━━━━━━━━━━━━━━━━━━━━━━━\u001b[0m \u001b[32m0.0/252.0 kB\u001b[0m \u001b[31m?\u001b[0m eta \u001b[36m-:--:--\u001b[0m\r\u001b[2K     \u001b[91m━━━━━━━━━━━━━━━━━━━━━━━━\u001b[0m\u001b[90m╺\u001b[0m\u001b[90m━━━━━━━━━━━━━━━\u001b[0m \u001b[32m153.6/252.0 kB\u001b[0m \u001b[31m4.4 MB/s\u001b[0m eta \u001b[36m0:00:01\u001b[0m\r\u001b[2K     \u001b[90m━━━━━━━━━━━━━━━━━━━━━━━━━━━━━━━━━━━━━━━━\u001b[0m \u001b[32m252.0/252.0 kB\u001b[0m \u001b[31m4.2 MB/s\u001b[0m eta \u001b[36m0:00:00\u001b[0m\n",
            "\u001b[?25h"
          ]
        }
      ],
      "source": [
        "# Vamos instalar o redis localmente aqui no Colab\n",
        "!pip install -q redis"
      ]
    },
    {
      "cell_type": "markdown",
      "metadata": {
        "id": "yO8o80_fM5cG"
      },
      "source": [
        "### Instale a Redis Stack localmente (vai fazer sentido!)\n",
        "\n",
        "Mesmo que você esteja usando o Redis Cloud, vamos configurar a cli aqui. A cli tool é conhecia simplesmente como `redis-cli`."
      ]
    },
    {
      "cell_type": "code",
      "execution_count": null,
      "metadata": {
        "colab": {
          "base_uri": "https://localhost:8080/"
        },
        "id": "6CjMuWlOxYoZ",
        "outputId": "bf9e3616-1a66-47a2-ee97-b99b78bb73a9"
      },
      "outputs": [
        {
          "output_type": "stream",
          "name": "stdout",
          "text": [
            "deb [signed-by=/usr/share/keyrings/redis-archive-keyring.gpg] https://packages.redis.io/deb jammy main\n",
            "Starting redis-stack-server, database path /var/lib/redis-stack\n"
          ]
        }
      ],
      "source": [
        "%%sh\n",
        "curl -fsSL https://packages.redis.io/gpg | sudo gpg --dearmor -o /usr/share/keyrings/redis-archive-keyring.gpg\n",
        "echo \"deb [signed-by=/usr/share/keyrings/redis-archive-keyring.gpg] https://packages.redis.io/deb $(lsb_release -cs) main\" | sudo tee /etc/apt/sources.list.d/redis.list\n",
        "sudo apt-get update  > /dev/null 2>&1\n",
        "sudo apt-get install redis-stack-server  > /dev/null 2>&1\n",
        "redis-stack-server --daemonize yes\n"
      ]
    },
    {
      "cell_type": "markdown",
      "metadata": {
        "id": "pD9QIlpeKs3o"
      },
      "source": [
        "### Configurando e testando a conexão com o seu Redis escolhido\n",
        "\n",
        "Nenhuma alteração é necessária caso você esteja seguindo o tutorial usando o Redis que foi instalado aqui, localmente.\n",
        "Caso você esteja utilizando Redis Cloud - coloque o endpoint host, port, e as credenciais pertinentes ao seu setup."
      ]
    },
    {
      "cell_type": "code",
      "execution_count": null,
      "metadata": {
        "id": "x47s7mlR_zYB"
      },
      "outputs": [],
      "source": [
        "import os\n",
        "\n",
        "REDIS_HOST = os.getenv(\"REDIS_HOST\", \"localhost\")\n",
        "REDIS_PORT = os.getenv(\"REDIS_PORT\", \"6379\")\n",
        "REDIS_PASSWORD = os.getenv(\"REDIS_PASSWORD\", \"\")\n",
        "#Substitua os valores acima com os pertinentes, caso esteja no Redis Cloud. Será fácil do mesmo jeito, podem ficar tranquilos.\n",
        "# Exemplo:\n",
        "#REDIS_HOST=\"redis-18374.c253.us-central1-1.gce.cloud.redislabs.com\"\n",
        "#REDIS_PORT=18374\n",
        "#REDIS_PASSWORD=\"1TNxTEdYRDgIDKM2gDfasupCADXXXX\"\n",
        "\n",
        "# Caso o SSL esteja ativo pro endpoint, adicione --tls\n",
        "# Recomendo não misturar lé com cré aqui, visto que não vamos ter nenhuma informação sensível passando pelo fio.\n",
        "if REDIS_PASSWORD!=\"\":\n",
        "  os.environ[\"REDIS_CONN\"]=f\"-h {REDIS_HOST} -p {REDIS_PORT} -a {REDIS_PASSWORD} --no-auth-warning\"\n",
        "else:\n",
        "  os.environ[\"REDIS_CONN\"]=f\"-h {REDIS_HOST} -p {REDIS_PORT}\"\n",
        "\n",
        "# Caso o SSL esteja ativo pro endpoint, use rediss:// como o prefixo da URL\n",
        "REDIS_URL = f\"redis://:{REDIS_PASSWORD}@{REDIS_HOST}:{REDIS_PORT}\"\n"
      ]
    },
    {
      "cell_type": "markdown",
      "metadata": {
        "id": "Mnyz8NjaNz8T"
      },
      "source": [
        "### Checkpoint - Teste básico direto via Redis CLI"
      ]
    },
    {
      "cell_type": "code",
      "execution_count": null,
      "metadata": {
        "colab": {
          "base_uri": "https://localhost:8080/"
        },
        "id": "6FFP3eCRBTzk",
        "outputId": "1fef12eb-873d-41fc-e651-c36b1be818eb"
      },
      "outputs": [
        {
          "output_type": "stream",
          "name": "stdout",
          "text": [
            "PONG\n",
            "OK\n",
            "\"world\"\n"
          ]
        }
      ],
      "source": [
        "!redis-cli $REDIS_CONN PING\n",
        "!redis-cli $REDIS_CONN SET hello world\n",
        "!redis-cli $REDIS_CONN GET hello"
      ]
    },
    {
      "cell_type": "markdown",
      "metadata": {
        "id": "CXEoNDpHN5WU"
      },
      "source": [
        "### Checkpoint - Teste básico do Python client (que conecta com o Redis)"
      ]
    },
    {
      "cell_type": "code",
      "execution_count": null,
      "metadata": {
        "id": "DbKb8mnWQO-5"
      },
      "outputs": [],
      "source": [
        "import redis\n",
        "r = redis.Redis(\n",
        "  host=REDIS_HOST,\n",
        "  port=REDIS_PORT,\n",
        "  password=REDIS_PASSWORD)\n",
        "\n",
        "r.get(\"redis_da_massa\")"
      ]
    },
    {
      "cell_type": "markdown",
      "metadata": {
        "id": "zR1iwtIVPDQB"
      },
      "source": [
        "### TTL - Time To Live - Just for fun\n",
        "\n",
        "Um sistema de Caching robusto provavelmente estará gerenciando quanto tempo cada valor fica no cache. Temos libs, SDKs, e o RDI pra facilitar isso, mas vamos deixar esse papo pra outro workshop. Só lembrar que existem opções com o Redis (RDI) onde você nem precisaria cuidar do Cache Layer.\n",
        "\n",
        "Enfim, vamos brincar aqui só pra garantir que o Setup está pronto pro Samba!\n",
        "\n",
        "Redis permite que você controle esses comportamentos de TTL utilizando flags, como EX/EXAT/etc.\n",
        "\n",
        "Para mais informações sobre este tema tão importante, veja (depois) https://redis.io/commands/set/"
      ]
    },
    {
      "cell_type": "code",
      "execution_count": null,
      "metadata": {
        "colab": {
          "base_uri": "https://localhost:8080/"
        },
        "id": "PlVwgknTODE1",
        "outputId": "af08fa91-dbce-4484-c4cc-76a2aae24256"
      },
      "outputs": [
        {
          "output_type": "stream",
          "name": "stdout",
          "text": [
            "b'essa chave vai pro belel\\xc3\\xa9u em breve...'\n",
            "b'essa chave vai pro belel\\xc3\\xa9u em breve...'\n",
            "b'essa chave vai pro belel\\xc3\\xa9u em breve...'\n",
            "b'essa chave vai pro belel\\xc3\\xa9u em breve...'\n",
            "b'essa chave vai pro belel\\xc3\\xa9u em breve...'\n",
            "b'essa chave vai pro belel\\xc3\\xa9u em breve...'\n",
            "b'essa chave vai pro belel\\xc3\\xa9u em breve...'\n",
            "b'essa chave vai pro belel\\xc3\\xa9u em breve...'\n",
            "b'essa chave vai pro belel\\xc3\\xa9u em breve...'\n",
            "b'essa chave vai pro belel\\xc3\\xa9u em breve...'\n",
            "None\n",
            "None\n",
            "None\n",
            "None\n",
            "None\n"
          ]
        }
      ],
      "source": [
        "import time\n",
        "r.set(name=\"ttl_key\", value=\"essa chave vai pro beleleu em breve...\", ex=10)\n",
        "for i in range(15):\n",
        "  print(r.get(name=\"ttl_key\"))\n",
        "  time.sleep(1)"
      ]
    }
  ],
  "metadata": {
    "colab": {
      "provenance": [],
      "include_colab_link": true
    },
    "kernelspec": {
      "display_name": "Python 3",
      "name": "python3"
    },
    "language_info": {
      "name": "python"
    }
  },
  "nbformat": 4,
  "nbformat_minor": 0
}