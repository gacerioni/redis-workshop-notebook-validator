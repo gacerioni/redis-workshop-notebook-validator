{
  "cells": [
    {
      "cell_type": "markdown",
      "metadata": {
        "id": "view-in-github",
        "colab_type": "text"
      },
      "source": [
        "<a href=\"https://colab.research.google.com/github/gacerioni/redis-workshop-notebook-validator/blob/master/redis-workshop-setup-notebook-validator.ipynb\" target=\"_parent\"><img src=\"https://colab.research.google.com/assets/colab-badge.svg\" alt=\"Open In Colab\"/></a>"
      ]
    },
    {
      "cell_type": "markdown",
      "metadata": {
        "id": "MvZnhXr0L3K3"
      },
      "source": [
        "# Preparando e testando os recursos necessários para o nosso Workshop!\n",
        "\n",
        "![Redis](https://upload.wikimedia.org/wikipedia/commons/e/ee/Redis_logo.svg)\n",
        "\n",
        "**Bem-vind[ao]s ao setup inicial e onboarding do Workshop Hands-On de Redis Cloud!**\n",
        "\n",
        "Este notebook tem um objetivo bem simples e direto: garantir que tudo está pronto e funcionado para o workshop técnico que vocês terão a seguir, utilizando uma estação de trabalho ou um laptop pessoal.\n",
        "\n",
        "**Outcomes:**\n",
        "\n",
        "\n",
        "*   Criar uma conta no Redis Cloud, e configurar um DB Free Forever (Essentials) para cada indivíduo. Pra chamar o Redis de seu.\n",
        "*   Garantir que vocês conseguem executar comandos locais aqui no Notebook. O único requisito é ter uma conta no Google. Nada será executado no seu ambiente diretamente.\n",
        "* Efetuar os testes básicos de conectividade, do notebook (este Collab) com a sua instância do Redis Cloud pessoal.\n",
        "* Instalar e configurar o Redis Insight (GUI).\n",
        "\n",
        "Vamos lá!\n",
        "\n",
        "![Redis](https://redis.com/wp-content/themes/wpx/assets/images/logo-redis.svg?auto=webp&quality=85,75&width=120)\n",
        "\n",
        "\n"
      ]
    },
    {
      "cell_type": "markdown",
      "source": [
        "# Criando uma conta pessoal no Redis Cloud - Free Forever\n",
        "\n",
        "\n",
        "## Para provisionar uma instância free-forever do Redis Cloud:\n",
        "\n",
        "- Acesse https://redis.com/try-free/\n",
        "- Registre com o seu email (gmail é uma boa pedida)\n",
        "- Crie a subscription with do free tier (não precisa de cartão de crédito, sem gotchas)\n",
        "\n",
        "O onboarding atual do Redis Cloud já vai te levar a criar um DB inicial, e ele é exatamente o que precisamos.\n",
        "\n",
        "---\n",
        "\n",
        "## Em detalhes - passo a passo:\n",
        "\n",
        "\n",
        "### Passo 1 - Criar a sua conta no Redis Cloud\n",
        "\n",
        "Na página do [Try Free](https://redis.io/try-free/), basta fazer o processo de Sign Up que será apresentado logo na landing page.\n",
        "\n",
        "![signup](https://github.com/gacerioni/redis-workshop-notebook-validator/blob/master/static/redis_cloud_signup_ui.png?raw=true)\n",
        "\n",
        "\n",
        "**Feito isso, você irá ir para a página de conclusão, e uma mensagem dizendo pra você concluir a ativação da conta pelo e-mail que fora enviado.**\n",
        "\n",
        "![signup-confirmation-ui](https://github.com/gacerioni/redis-workshop-notebook-validator/blob/master/static/redis_cloud_signup_confirmation.png?raw=true)\n",
        "\n",
        "**E o email, que se parece com isso daqui:**\n",
        "\n",
        "![signup-confirmation-email](https://github.com/gacerioni/redis-workshop-notebook-validator/blob/master/static/redis_cloud_signup_email_confirmation.png?raw=true)\n",
        "\n",
        "\n",
        "**Perfeito! Chegamos ao fim do Passo 1.**\\\n",
        "Vamos em frente! 🚀\n",
        "\n",
        "---\n",
        "\n",
        "\n"
      ],
      "metadata": {
        "id": "Fl1KMzBa0D6R"
      }
    },
    {
      "cell_type": "markdown",
      "source": [
        "### Passo 2 - Setup do Database no Redis Cloud\n",
        "\n",
        "Não se preocupe se a sua jornada não tiver sido exatamente essa. No final das contas, a gente só quer um db redis com um endpoint público... pouco importa a forma que chegamos lá. 🖖\n",
        "\n",
        "Ao clicar no link do e-email de *confirmação* do seu **Sign Up**, você irá se deparar com esta landing page:\n",
        "\n",
        "![create-db-landing-page](https://github.com/gacerioni/redis-workshop-notebook-validator/blob/master/static/redis_cloud_landing_page_create_initial_db.png?raw=true)\n",
        "\n",
        "**Aqui, vamos de AWS mesmo.**\\\n",
        "Não existe efeito nenhum que possa afetar a qualidade de nossa demo, independentemente do Cloud Service Provider que estiver disponível aí pra vocês.\n",
        "\n",
        "Portanto, escolha sa-east-1, e simplesmente o botão: **Let's start free**. 👆\n",
        "\n",
        "---\n",
        "\n",
        "\n"
      ],
      "metadata": {
        "id": "BPv_AHbqDqJG"
      }
    },
    {
      "cell_type": "markdown",
      "source": [
        "### Passo 3 - Verificando o seu novo Banco de Dados no Redis Cloud\n",
        "\n",
        "**Parabéns! Já fizemos o trabalho pesado.**\\\n",
        "Agora é validar e fechar com chave de ouro. 🔑🥇\n",
        "\n",
        "Se tudo deu certo, estamos com a Subscription (o DB nesse caso, sem cluster) pronta para uso!\n",
        "\n",
        "![subscriptions](https://github.com/gacerioni/redis-workshop-notebook-validator/blob/master/static/redis_cloud_subscription_ui.png?raw=true)\n",
        "\n",
        "\n",
        "Clique no banco de dados. Neste caso: `Redis-free-db`.\n",
        "\n",
        "**Você irá se deparar com a página central do Database:**\n",
        "\n",
        "![database](https://github.com/gacerioni/redis-workshop-notebook-validator/blob/master/static/redis_cloud_database_ui.png?raw=true)\n",
        "\n",
        "\n",
        "Note que já temos o endpoint público aí. Pra fechar uma string de conexão, portanto, só precisamos de uma credencial.\n",
        "\n",
        "**Para evitar complexidades de *RBAC*, vamos pegar a senha default do banco de dados a seguir.**\n",
        "\n",
        "Desça um pouco na página, e você irá se deparar com a caixa de **Security**.\n",
        "E era isso. Tome nota da sua senha e vamos em frente!\n",
        "\n",
        "![security-pwd](https://github.com/gacerioni/redis-workshop-notebook-validator/blob/master/static/redis_cloud_database_security_ui.png?raw=true)\n",
        "\n",
        "---\n"
      ],
      "metadata": {
        "id": "QNeYbve-D2OG"
      }
    },
    {
      "cell_type": "markdown",
      "source": [
        "### Passo 4 - Reta final - Testando a conectividade com o Redis Cloud DB\n",
        "\n",
        "O primeiro passo é instalar a CLI do redis, a `redis-cli`, aqui no Notebook mesmo."
      ],
      "metadata": {
        "id": "EVVIEtfdD5By"
      }
    },
    {
      "cell_type": "code",
      "execution_count": null,
      "metadata": {
        "colab": {
          "base_uri": "https://localhost:8080/"
        },
        "id": "maAiICvM-cTX",
        "outputId": "3f2f927c-dfc6-41c1-d197-b7dd67e56518"
      },
      "outputs": [
        {
          "output_type": "stream",
          "name": "stdout",
          "text": [
            "\r0% [Working]\r            \rGet:1 http://security.ubuntu.com/ubuntu jammy-security InRelease [110 kB]\n",
            "Get:2 https://cloud.r-project.org/bin/linux/ubuntu jammy-cran40/ InRelease [3,626 B]\n",
            "Get:3 https://developer.download.nvidia.com/compute/cuda/repos/ubuntu2204/x86_64  InRelease [1,581 B]\n",
            "Hit:4 http://archive.ubuntu.com/ubuntu jammy InRelease\n",
            "Get:5 https://developer.download.nvidia.com/compute/cuda/repos/ubuntu2204/x86_64  Packages [872 kB]\n",
            "Get:6 http://archive.ubuntu.com/ubuntu jammy-updates InRelease [119 kB]\n",
            "Hit:7 https://ppa.launchpadcontent.net/c2d4u.team/c2d4u4.0+/ubuntu jammy InRelease\n",
            "Hit:8 https://ppa.launchpadcontent.net/deadsnakes/ppa/ubuntu jammy InRelease\n",
            "Hit:9 https://ppa.launchpadcontent.net/graphics-drivers/ppa/ubuntu jammy InRelease\n",
            "Hit:10 http://archive.ubuntu.com/ubuntu jammy-backports InRelease\n",
            "Hit:11 https://ppa.launchpadcontent.net/ubuntugis/ppa/ubuntu jammy InRelease\n",
            "Get:12 http://archive.ubuntu.com/ubuntu jammy-updates/universe amd64 Packages [1,375 kB]\n",
            "Get:13 http://archive.ubuntu.com/ubuntu jammy-updates/main amd64 Packages [2,125 kB]\n",
            "Fetched 4,606 kB in 2s (2,404 kB/s)\n",
            "Reading package lists... Done\n",
            "Reading package lists... Done\n",
            "Building dependency tree... Done\n",
            "Reading state information... Done\n",
            "The following additional packages will be installed:\n",
            "  libjemalloc2 liblua5.1-0 liblzf1 lua-bitop lua-cjson\n",
            "Suggested packages:\n",
            "  ruby-redis\n",
            "The following NEW packages will be installed:\n",
            "  libjemalloc2 liblua5.1-0 liblzf1 lua-bitop lua-cjson redis-tools\n",
            "0 upgraded, 6 newly installed, 0 to remove and 45 not upgraded.\n",
            "Need to get 1,227 kB of archives.\n",
            "After this operation, 5,530 kB of additional disk space will be used.\n",
            "Get:1 http://archive.ubuntu.com/ubuntu jammy/universe amd64 libjemalloc2 amd64 5.2.1-4ubuntu1 [240 kB]\n",
            "Get:2 http://archive.ubuntu.com/ubuntu jammy/universe amd64 liblua5.1-0 amd64 5.1.5-8.1build4 [99.9 kB]\n",
            "Get:3 http://archive.ubuntu.com/ubuntu jammy/universe amd64 liblzf1 amd64 3.6-3 [7,444 B]\n",
            "Get:4 http://archive.ubuntu.com/ubuntu jammy/universe amd64 lua-bitop amd64 1.0.2-5 [6,680 B]\n",
            "Get:5 http://archive.ubuntu.com/ubuntu jammy/universe amd64 lua-cjson amd64 2.1.0+dfsg-2.1 [17.4 kB]\n",
            "Get:6 http://archive.ubuntu.com/ubuntu jammy/universe amd64 redis-tools amd64 5:6.0.16-1ubuntu1 [856 kB]\n",
            "Fetched 1,227 kB in 1s (1,084 kB/s)\n",
            "Selecting previously unselected package libjemalloc2:amd64.\n",
            "(Reading database ... 121918 files and directories currently installed.)\n",
            "Preparing to unpack .../0-libjemalloc2_5.2.1-4ubuntu1_amd64.deb ...\n",
            "Unpacking libjemalloc2:amd64 (5.2.1-4ubuntu1) ...\n",
            "Selecting previously unselected package liblua5.1-0:amd64.\n",
            "Preparing to unpack .../1-liblua5.1-0_5.1.5-8.1build4_amd64.deb ...\n",
            "Unpacking liblua5.1-0:amd64 (5.1.5-8.1build4) ...\n",
            "Selecting previously unselected package liblzf1:amd64.\n",
            "Preparing to unpack .../2-liblzf1_3.6-3_amd64.deb ...\n",
            "Unpacking liblzf1:amd64 (3.6-3) ...\n",
            "Selecting previously unselected package lua-bitop:amd64.\n",
            "Preparing to unpack .../3-lua-bitop_1.0.2-5_amd64.deb ...\n",
            "Unpacking lua-bitop:amd64 (1.0.2-5) ...\n",
            "Selecting previously unselected package lua-cjson:amd64.\n",
            "Preparing to unpack .../4-lua-cjson_2.1.0+dfsg-2.1_amd64.deb ...\n",
            "Unpacking lua-cjson:amd64 (2.1.0+dfsg-2.1) ...\n",
            "Selecting previously unselected package redis-tools.\n",
            "Preparing to unpack .../5-redis-tools_5%3a6.0.16-1ubuntu1_amd64.deb ...\n",
            "Unpacking redis-tools (5:6.0.16-1ubuntu1) ...\n",
            "Setting up libjemalloc2:amd64 (5.2.1-4ubuntu1) ...\n",
            "Setting up lua-cjson:amd64 (2.1.0+dfsg-2.1) ...\n",
            "Setting up liblzf1:amd64 (3.6-3) ...\n",
            "Setting up lua-bitop:amd64 (1.0.2-5) ...\n",
            "Setting up liblua5.1-0:amd64 (5.1.5-8.1build4) ...\n",
            "Setting up redis-tools (5:6.0.16-1ubuntu1) ...\n",
            "Processing triggers for man-db (2.10.2-1) ...\n",
            "Processing triggers for libc-bin (2.35-0ubuntu3.4) ...\n",
            "/sbin/ldconfig.real: /usr/local/lib/libtbbmalloc_proxy.so.2 is not a symbolic link\n",
            "\n",
            "/sbin/ldconfig.real: /usr/local/lib/libtbbbind.so.3 is not a symbolic link\n",
            "\n",
            "/sbin/ldconfig.real: /usr/local/lib/libtbbmalloc.so.2 is not a symbolic link\n",
            "\n",
            "/sbin/ldconfig.real: /usr/local/lib/libtbbbind_2_0.so.3 is not a symbolic link\n",
            "\n",
            "/sbin/ldconfig.real: /usr/local/lib/libtbb.so.12 is not a symbolic link\n",
            "\n",
            "/sbin/ldconfig.real: /usr/local/lib/libtbbbind_2_5.so.3 is not a symbolic link\n",
            "\n"
          ]
        }
      ],
      "source": [
        "# Vamos instalar a lib do redis escolhida para o teste\n",
        "!pip install -q redis\n",
        "\n",
        "# E instalar a CLI, via redis-tools, que inclui a famosa redis-cli\n",
        "!apt-get update\n",
        "!apt-get install -y redis-tools"
      ]
    },
    {
      "cell_type": "markdown",
      "metadata": {
        "id": "pD9QIlpeKs3o"
      },
      "source": [
        "#### Configurando e testando a conexão com o seu Redis escolhido\n",
        "\n",
        "Coloque o endpoint host, port, e as credenciais pertinentes ao seu setup.\n",
        "\n",
        "Vou deixar o meu DB mesmo aqui, como referência."
      ]
    },
    {
      "cell_type": "code",
      "execution_count": null,
      "metadata": {
        "id": "x47s7mlR_zYB"
      },
      "outputs": [],
      "source": [
        "import os\n",
        "\n",
        "# Coloque aqui os dados do seu DB do Redis Cloud:\n",
        "REDIS_HOST=\"redis-18582.c308.sa-east-1-1.ec2.redns.redis-cloud.com\"\n",
        "REDIS_PORT=18582\n",
        "REDIS_PASSWORD=\"wcEps72zue2SoHMZs7Al1EdKSYzFm0sT\"\n",
        "\n",
        "# Caso o SSL esteja ativo pro endpoint, adicione --tls\n",
        "# Recomendo não misturar lé com cré aqui, visto que não vamos ter nenhuma informação sensível passando pelo fio.\n",
        "if REDIS_PASSWORD!=\"\":\n",
        "  os.environ[\"REDIS_CONN\"]=f\"-h {REDIS_HOST} -p {REDIS_PORT} -a {REDIS_PASSWORD} --no-auth-warning\"\n",
        "else:\n",
        "  os.environ[\"REDIS_CONN\"]=f\"-h {REDIS_HOST} -p {REDIS_PORT}\"\n",
        "\n",
        "# Caso o SSL esteja ativo pro endpoint, use rediss:// como o prefixo da URL\n",
        "REDIS_URL = f\"redis://:{REDIS_PASSWORD}@{REDIS_HOST}:{REDIS_PORT}\"\n"
      ]
    },
    {
      "cell_type": "markdown",
      "metadata": {
        "id": "Mnyz8NjaNz8T"
      },
      "source": [
        "#### Checkpoint - Teste básico direto via Redis CLI\n",
        "\n",
        "Vamos testar a conectividade via redis-cli também, pois vamos usá-la eventualmente ao longo dos workshops."
      ]
    },
    {
      "cell_type": "code",
      "execution_count": null,
      "metadata": {
        "colab": {
          "base_uri": "https://localhost:8080/"
        },
        "id": "6FFP3eCRBTzk",
        "outputId": "bdabfe06-d906-46f6-80d0-3e06ee62f212"
      },
      "outputs": [
        {
          "output_type": "stream",
          "name": "stdout",
          "text": [
            "Verificando a conexão com o Redis...\n",
            "Resposta do PING: PONG\n",
            "Definindo um valor no Redis...\n",
            "Resposta do SET: OK\n",
            "Obtendo o valor do Redis...\n",
            "Resposta do GET: \"42\"\n",
            "\n",
            "#######################################################################\n",
            "A configuração do Redis está correta! Parabéns!\n",
            "#######################################################################\n"
          ]
        }
      ],
      "source": [
        "# Verificar se a conexão está sendo bem-sucedida daqui de dentro\n",
        "print(\"Verificando a conexão com o Redis...\")\n",
        "resposta_ping = !redis-cli $REDIS_CONN PING\n",
        "print(\"Resposta do PING:\", resposta_ping[0])\n",
        "\n",
        "# Definir um valor no Redis\n",
        "print(\"Definindo um valor no Redis...\")\n",
        "resposta_set = !redis-cli $REDIS_CONN SET repostafinal 42\n",
        "print(\"Resposta do SET:\", resposta_set[0])\n",
        "\n",
        "# Obter o valor do Redis\n",
        "print(\"Obtendo o valor do Redis...\")\n",
        "resposta_get = !redis-cli $REDIS_CONN GET repostafinal\n",
        "print(\"Resposta do GET:\", resposta_get[0])\n",
        "\n",
        "print(\"\")\n",
        "print(\"#######################################################################\")\n",
        "# Verificar se o valor obtido é o esperado\n",
        "if int(resposta_get[0].strip('\"')) == 42:\n",
        "    print(\"A configuração do Redis via CLI está correta! Parabéns!\")\n",
        "else:\n",
        "    print(\"Houve um problema na configuração do Redis. Estamos quase lá!\")\n",
        "print(\"#######################################################################\")"
      ]
    },
    {
      "cell_type": "markdown",
      "source": [
        "#### Checkpoint - Finalmente testando direto do Python!\n",
        "\n",
        "A seguir, vamos testar a comunicação a partir do Python para o Redis Cloud, utilizando a lib que já instalamos anteriormente (via pip)"
      ],
      "metadata": {
        "id": "afiiw-pRPLKm"
      }
    },
    {
      "cell_type": "code",
      "source": [
        "import redis\n",
        "\n",
        "r = redis.Redis(\n",
        "  host=REDIS_HOST,\n",
        "  port=REDIS_PORT,\n",
        "  password=REDIS_PASSWORD)\n",
        "\n",
        "# Verificar a conexão com o Redis\n",
        "try:\n",
        "    print(\"Verificando a conexão com o Redis...\")\n",
        "    resposta_ping = r.ping()\n",
        "    if resposta_ping:\n",
        "        print(\"Resposta do PING: PONG\")\n",
        "except redis.ConnectionError:\n",
        "    print(\"Erro: Não foi possível conectar ao Redis.\")\n",
        "\n",
        "# Definir um valor no Redis\n",
        "print(\"Definindo um valor no Redis...\")\n",
        "r.set(\"repostafinal\", \"42\")\n",
        "print(\"Resposta do SET: OK\")\n",
        "\n",
        "# Obter o valor do Redis\n",
        "print(\"Obtendo o valor do Redis...\")\n",
        "resposta_get = r.get(\"repostafinal\")\n",
        "print(\"Resposta do GET:\", resposta_get)\n",
        "\n",
        "print(\"\")\n",
        "print(\"#######################################################################\")\n",
        "# Verificar se o valor obtido é o esperado\n",
        "if resposta_get == b'42':\n",
        "    print(\"A configuração do Redis via Python está correta! Parabéns!\")\n",
        "else:\n",
        "    print(\"Houve um problema na configuração do Redis. Estamos quase lá!\")\n",
        "print(\"#######################################################################\")"
      ],
      "metadata": {
        "id": "VmYBOpfaPd_e",
        "outputId": "f63e544c-3058-40b7-f465-2af3c9812c87",
        "colab": {
          "base_uri": "https://localhost:8080/"
        }
      },
      "execution_count": null,
      "outputs": [
        {
          "output_type": "stream",
          "name": "stdout",
          "text": [
            "Verificando a conexão com o Redis...\n",
            "Resposta do PING: PONG\n",
            "Definindo um valor no Redis...\n",
            "Resposta do SET: OK\n",
            "Obtendo o valor do Redis...\n",
            "Resposta do GET: b'42'\n",
            "\n",
            "#######################################################################\n",
            "A configuração do Redis via Python está correta! Parabéns!\n",
            "#######################################################################\n"
          ]
        }
      ]
    },
    {
      "cell_type": "markdown",
      "source": [
        "#### Passo 5 - Configurar o Redis Insight (GUI) no seu computador\n",
        "\n",
        "Este carinha aqui é o Cockpit do Desenvolvedor. É a casa do Data Engineer, do DBA, do cara de Machine Learning. Pra gente.\n",
        "\n",
        "Você pode usar o Redis Insigh com qualquer sabor de Redis: source available, redis-stack, redis Software, redis Cloud.\n",
        "\n",
        "**Vamos lá:**\n",
        "\n",
        "1.   Acesse a página de Download do Redis Insight [aqui](https://redis.io/insight/).\n",
        "2.   Baixe e instale a GUI pertinente ao seu sistema (macOS, Linux, Windows)\n",
        "3.   Abra o **Redis Insight**.\n",
        "4.   Dica: Você pode definir preferências, como o tema Dark; Você pode configurar o Copilot, etc.\n",
        "\n",
        "\n",
        "**Vamos agora configurar uma conexão com o nosso Banco de Dados que criamos no Redis Cloud:**\n",
        "\n",
        "1.   Clique em `+ Add Redis database`\n",
        "2.   Preencha a configurações do lado direito. Exemplo com o meu db:\\\n",
        "![redis-insight-create-db](https://github.com/gacerioni/redis-workshop-notebook-validator/blob/master/static/redis_insight_create_db_conn.png?raw=true)\n",
        "3. Se tudo estiver certinho, você verá essa mensagem de confirmação:\\\n",
        "![redis-insight-create-db-confirmation](https://github.com/gacerioni/redis-workshop-notebook-validator/blob/master/static/redis_insight_create_db_conn_confirmation.png?raw=true)\n",
        "4. Agora basta clicar no Banco de Dados recém configurado, e voilà!\n",
        "\n",
        "**Alguns dados já devem estar lá, com toda a Durabilidade do Redis Cloud.**\n",
        "\n",
        "![redis-insight-mission-accomplished](https://github.com/gacerioni/redis-workshop-notebook-validator/blob/master/static/redis_insight_mission_accomplished.png?raw=true)"
      ],
      "metadata": {
        "id": "kc9CNjc8Y9-P"
      }
    },
    {
      "cell_type": "markdown",
      "source": [
        "### Linha de Chegada!!! Parabéns!\n",
        "\n",
        "Estamos prontos para ir pra algum lugar a partir daqui.\\\n",
        "Não sei exatamente pra onde, mas sei de uma coisa: estamos bem preparados! ⚔\n",
        "\n",
        "\n",
        "![finish-line](https://github.com/gacerioni/redis-workshop-notebook-validator/raw/master/static/gabs_staff_cave_mmorpg.webp)"
      ],
      "metadata": {
        "id": "23kuqN62gOMf"
      }
    },
    {
      "cell_type": "markdown",
      "metadata": {
        "id": "zR1iwtIVPDQB"
      },
      "source": [
        "### TTL - Time To Live - Just for fun\n",
        "\n",
        "Um sistema de Caching robusto provavelmente estará gerenciando quanto tempo cada valor fica no cache. Temos libs, SDKs, e o RDI pra facilitar isso, mas vamos deixar esse papo pra outro workshop. Só lembrar que existem opções com o Redis (RDI) onde você nem precisaria cuidar do Cache Layer.\n",
        "\n",
        "Enfim, vamos brincar aqui só pra garantir que o Setup está pronto pro Samba!\n",
        "\n",
        "Redis permite que você controle esses comportamentos de TTL utilizando flags, como EX/EXAT/etc.\n",
        "\n",
        "Para mais informações sobre este tema tão importante, veja (depois) https://redis.io/commands/set/"
      ]
    },
    {
      "cell_type": "code",
      "execution_count": null,
      "metadata": {
        "colab": {
          "base_uri": "https://localhost:8080/"
        },
        "id": "PlVwgknTODE1",
        "outputId": "c3ce643b-2e29-4388-9ced-20a752365a76"
      },
      "outputs": [
        {
          "output_type": "stream",
          "name": "stdout",
          "text": [
            "b'essa chave vai pro beleleu em breve...'\n",
            "b'essa chave vai pro beleleu em breve...'\n",
            "b'essa chave vai pro beleleu em breve...'\n",
            "b'essa chave vai pro beleleu em breve...'\n",
            "b'essa chave vai pro beleleu em breve...'\n",
            "b'essa chave vai pro beleleu em breve...'\n",
            "b'essa chave vai pro beleleu em breve...'\n",
            "b'essa chave vai pro beleleu em breve...'\n",
            "b'essa chave vai pro beleleu em breve...'\n",
            "None\n",
            "None\n",
            "None\n",
            "None\n",
            "None\n",
            "None\n"
          ]
        }
      ],
      "source": [
        "import time\n",
        "r.set(name=\"ttl_key\", value=\"essa chave vai pro beleleu em breve...\", ex=10)\n",
        "for i in range(15):\n",
        "  print(r.get(name=\"ttl_key\"))\n",
        "  time.sleep(1)"
      ]
    }
  ],
  "metadata": {
    "colab": {
      "provenance": [],
      "include_colab_link": true
    },
    "kernelspec": {
      "display_name": "Python 3",
      "name": "python3"
    },
    "language_info": {
      "name": "python"
    }
  },
  "nbformat": 4,
  "nbformat_minor": 0
}