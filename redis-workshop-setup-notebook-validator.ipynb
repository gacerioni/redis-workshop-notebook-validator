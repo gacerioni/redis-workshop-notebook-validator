{
  "cells": [
    {
      "cell_type": "markdown",
      "metadata": {
        "id": "view-in-github",
        "colab_type": "text"
      },
      "source": [
        "<a href=\"https://colab.research.google.com/github/gacerioni/redis-workshop-notebook-validator/blob/master/redis-workshop-setup-notebook-validator.ipynb\" target=\"_parent\"><img src=\"https://colab.research.google.com/assets/colab-badge.svg\" alt=\"Open In Colab\"/></a>"
      ]
    },
    {
      "cell_type": "markdown",
      "metadata": {
        "id": "MvZnhXr0L3K3"
      },
      "source": [
        "# Preparando e testando os recursos necessários para o nosso Workshop!\n",
        "\n",
        "![Redis](https://upload.wikimedia.org/wikipedia/commons/e/ee/Redis_logo.svg)\n",
        "\n",
        "**Bem-vind[ao]s ao setup inicial e onboarding do Workshop Hands-On de Redis Cloud!**\n",
        "\n",
        "Este notebook tem um objetivo bem simples e direto: garantir que tudo está pronto e funcionado para o workshop técnico que vocês terão a seguir, utilizando uma estação de trabalho ou um laptop pessoal.\n",
        "\n",
        "**Outcomes:**\n",
        "\n",
        "\n",
        "*   Criar uma conta no Redis Cloud, e configurar um DB Free Forever (Essentials) para cada indivíduo. Pra chamar o Redis de seu.\n",
        "*   Garantir que vocês conseguem executar comandos locais aqui no Notebook. O único requisito é ter uma conta no Google. Nada será executado no seu ambiente diretamente.\n",
        "* Efetuar os testes básicos de conectividade, do notebook (este Collab) com a sua instância do Redis Cloud pessoal.\n",
        "\n",
        "Vamos lá!\n",
        "\n",
        "![Redis](https://redis.com/wp-content/themes/wpx/assets/images/logo-redis.svg?auto=webp&quality=85,75&width=120)\n",
        "\n",
        "\n"
      ]
    },
    {
      "cell_type": "markdown",
      "source": [
        "# Criando uma conta pessoal no Redis Cloud - Free Forever\n",
        "\n",
        "\n",
        "## Para provisionar uma instância free-forever do Redis Cloud:\n",
        "\n",
        "- Acesse https://redis.com/try-free/\n",
        "- Registre com o seu email (gmail é uma boa pedida)\n",
        "- Crie a subscription with do free tier (não precisa de cartão de crédito, sem gotchas)\n",
        "\n",
        "O onboarding atual do Redis Cloud já vai te levar a criar um DB inicial, e ele é exatamente o que precisamos.\n",
        "\n",
        "---\n",
        "\n",
        "## Em detalhes - passo a passo:\n",
        "\n",
        "\n",
        "### Passo 1 - Criar a sua conta no Redis Cloud\n",
        "\n",
        "Na página do [Try Free](https://redis.io/try-free/), basta fazer o processo de Sign Up que será apresentado logo na landing page.\n",
        "\n",
        "![signup](https://github.com/gacerioni/redis-workshop-notebook-validator/blob/master/static/redis_cloud_signup_ui.png?raw=true)\n",
        "\n",
        "\n",
        "**Feito isso, você irá ir para a página de conclusão, e uma mensagem dizendo pra você concluir a ativação da conta pelo e-mail que fora enviado.**\n",
        "\n",
        "![signup-confirmation-ui](https://github.com/gacerioni/redis-workshop-notebook-validator/blob/master/static/redis_cloud_signup_confirmation.png?raw=true)\n",
        "\n",
        "**E o email, que se parece com isso daqui:**\n",
        "\n",
        "![signup-confirmation-email](https://github.com/gacerioni/redis-workshop-notebook-validator/blob/master/static/redis_cloud_signup_email_confirmation.png?raw=true)\n",
        "\n",
        "\n",
        "**Perfeito! Chegamos ao fim do Passo 1.**\\\n",
        "Vamos em frente! 🚀\n",
        "\n",
        "---\n",
        "\n",
        "### Passo 2 - Setup do Database no Redis Cloud\n",
        "\n",
        "Não se preocupe se a sua jornada não tiver sido exatamente essa. No final das contas, a gente só quer um db redis com um endpoint público... pouco importa a forma que chegamos lá. 🖖\n",
        "\n",
        "Ao clicar no link do e-email de *confirmação* do seu **Sign Up**, você irá se deparar com esta landing page:\n",
        "\n",
        "![create-db-landing-page](https://github.com/gacerioni/redis-workshop-notebook-validator/blob/master/static/redis_cloud_landing_page_create_initial_db.png?raw=true)\n",
        "\n",
        "**Aqui, vamos de AWS mesmo.**\\\n",
        "Não existe efeito nenhum que possa afetar a qualidade de nossa demo, independentemente do Cloud Service Provider que estiver disponível aí pra vocês.\n",
        "\n",
        "Portanto, escolha sa-east-1, e simplesmente o botão: **Let's start free**. 👆\n"
      ],
      "metadata": {
        "id": "Fl1KMzBa0D6R"
      }
    },
    {
      "cell_type": "code",
      "execution_count": null,
      "metadata": {
        "colab": {
          "base_uri": "https://localhost:8080/"
        },
        "id": "maAiICvM-cTX",
        "outputId": "49c870dd-af0d-4f89-fb33-a730f555a25d"
      },
      "outputs": [
        {
          "output_type": "stream",
          "name": "stdout",
          "text": [
            "\u001b[?25l     \u001b[90m━━━━━━━━━━━━━━━━━━━━━━━━━━━━━━━━━━━━━━━━\u001b[0m \u001b[32m0.0/252.0 kB\u001b[0m \u001b[31m?\u001b[0m eta \u001b[36m-:--:--\u001b[0m\r\u001b[2K     \u001b[91m━━━━━━━━━━━━━━━━━━━━━━━━\u001b[0m\u001b[90m╺\u001b[0m\u001b[90m━━━━━━━━━━━━━━━\u001b[0m \u001b[32m153.6/252.0 kB\u001b[0m \u001b[31m4.4 MB/s\u001b[0m eta \u001b[36m0:00:01\u001b[0m\r\u001b[2K     \u001b[90m━━━━━━━━━━━━━━━━━━━━━━━━━━━━━━━━━━━━━━━━\u001b[0m \u001b[32m252.0/252.0 kB\u001b[0m \u001b[31m4.2 MB/s\u001b[0m eta \u001b[36m0:00:00\u001b[0m\n",
            "\u001b[?25h"
          ]
        }
      ],
      "source": [
        "# Vamos instalar o redis localmente aqui no Colab\n",
        "!pip install -q redis"
      ]
    },
    {
      "cell_type": "markdown",
      "metadata": {
        "id": "yO8o80_fM5cG"
      },
      "source": [
        "### Instale a Redis Stack localmente (vai fazer sentido!)\n",
        "\n",
        "Mesmo que você esteja usando o Redis Cloud, vamos configurar a cli aqui. A cli tool é conhecia simplesmente como `redis-cli`."
      ]
    },
    {
      "cell_type": "markdown",
      "metadata": {
        "id": "pD9QIlpeKs3o"
      },
      "source": [
        "### Configurando e testando a conexão com o seu Redis escolhido\n",
        "\n",
        "Nenhuma alteração é necessária caso você esteja seguindo o tutorial usando o Redis que foi instalado aqui, localmente.\n",
        "Caso você esteja utilizando Redis Cloud - coloque o endpoint host, port, e as credenciais pertinentes ao seu setup."
      ]
    },
    {
      "cell_type": "code",
      "execution_count": null,
      "metadata": {
        "id": "x47s7mlR_zYB"
      },
      "outputs": [],
      "source": [
        "import os\n",
        "\n",
        "REDIS_HOST = os.getenv(\"REDIS_HOST\", \"localhost\")\n",
        "REDIS_PORT = os.getenv(\"REDIS_PORT\", \"6379\")\n",
        "REDIS_PASSWORD = os.getenv(\"REDIS_PASSWORD\", \"\")\n",
        "#Substitua os valores acima com os pertinentes, caso esteja no Redis Cloud. Será fácil do mesmo jeito, podem ficar tranquilos.\n",
        "# Exemplo:\n",
        "#REDIS_HOST=\"redis-18374.c253.us-central1-1.gce.cloud.redislabs.com\"\n",
        "#REDIS_PORT=18374\n",
        "#REDIS_PASSWORD=\"1TNxTEdYRDgIDKM2gDfasupCADXXXX\"\n",
        "\n",
        "# Caso o SSL esteja ativo pro endpoint, adicione --tls\n",
        "# Recomendo não misturar lé com cré aqui, visto que não vamos ter nenhuma informação sensível passando pelo fio.\n",
        "if REDIS_PASSWORD!=\"\":\n",
        "  os.environ[\"REDIS_CONN\"]=f\"-h {REDIS_HOST} -p {REDIS_PORT} -a {REDIS_PASSWORD} --no-auth-warning\"\n",
        "else:\n",
        "  os.environ[\"REDIS_CONN\"]=f\"-h {REDIS_HOST} -p {REDIS_PORT}\"\n",
        "\n",
        "# Caso o SSL esteja ativo pro endpoint, use rediss:// como o prefixo da URL\n",
        "REDIS_URL = f\"redis://:{REDIS_PASSWORD}@{REDIS_HOST}:{REDIS_PORT}\"\n"
      ]
    },
    {
      "cell_type": "markdown",
      "metadata": {
        "id": "Mnyz8NjaNz8T"
      },
      "source": [
        "### Checkpoint - Teste básico direto via Redis CLI"
      ]
    },
    {
      "cell_type": "code",
      "execution_count": null,
      "metadata": {
        "colab": {
          "base_uri": "https://localhost:8080/"
        },
        "id": "6FFP3eCRBTzk",
        "outputId": "1fef12eb-873d-41fc-e651-c36b1be818eb"
      },
      "outputs": [
        {
          "output_type": "stream",
          "name": "stdout",
          "text": [
            "PONG\n",
            "OK\n",
            "\"world\"\n"
          ]
        }
      ],
      "source": [
        "!redis-cli $REDIS_CONN PING\n",
        "!redis-cli $REDIS_CONN SET hello world\n",
        "!redis-cli $REDIS_CONN GET hello"
      ]
    },
    {
      "cell_type": "markdown",
      "metadata": {
        "id": "CXEoNDpHN5WU"
      },
      "source": [
        "### Checkpoint - Teste básico do Python client (que conecta com o Redis)"
      ]
    },
    {
      "cell_type": "code",
      "execution_count": null,
      "metadata": {
        "id": "DbKb8mnWQO-5"
      },
      "outputs": [],
      "source": [
        "import redis\n",
        "r = redis.Redis(\n",
        "  host=REDIS_HOST,\n",
        "  port=REDIS_PORT,\n",
        "  password=REDIS_PASSWORD)\n",
        "\n",
        "r.get(\"redis_da_massa\")"
      ]
    },
    {
      "cell_type": "markdown",
      "metadata": {
        "id": "zR1iwtIVPDQB"
      },
      "source": [
        "### TTL - Time To Live - Just for fun\n",
        "\n",
        "Um sistema de Caching robusto provavelmente estará gerenciando quanto tempo cada valor fica no cache. Temos libs, SDKs, e o RDI pra facilitar isso, mas vamos deixar esse papo pra outro workshop. Só lembrar que existem opções com o Redis (RDI) onde você nem precisaria cuidar do Cache Layer.\n",
        "\n",
        "Enfim, vamos brincar aqui só pra garantir que o Setup está pronto pro Samba!\n",
        "\n",
        "Redis permite que você controle esses comportamentos de TTL utilizando flags, como EX/EXAT/etc.\n",
        "\n",
        "Para mais informações sobre este tema tão importante, veja (depois) https://redis.io/commands/set/"
      ]
    },
    {
      "cell_type": "code",
      "execution_count": null,
      "metadata": {
        "colab": {
          "base_uri": "https://localhost:8080/"
        },
        "id": "PlVwgknTODE1",
        "outputId": "af08fa91-dbce-4484-c4cc-76a2aae24256"
      },
      "outputs": [
        {
          "output_type": "stream",
          "name": "stdout",
          "text": [
            "b'essa chave vai pro belel\\xc3\\xa9u em breve...'\n",
            "b'essa chave vai pro belel\\xc3\\xa9u em breve...'\n",
            "b'essa chave vai pro belel\\xc3\\xa9u em breve...'\n",
            "b'essa chave vai pro belel\\xc3\\xa9u em breve...'\n",
            "b'essa chave vai pro belel\\xc3\\xa9u em breve...'\n",
            "b'essa chave vai pro belel\\xc3\\xa9u em breve...'\n",
            "b'essa chave vai pro belel\\xc3\\xa9u em breve...'\n",
            "b'essa chave vai pro belel\\xc3\\xa9u em breve...'\n",
            "b'essa chave vai pro belel\\xc3\\xa9u em breve...'\n",
            "b'essa chave vai pro belel\\xc3\\xa9u em breve...'\n",
            "None\n",
            "None\n",
            "None\n",
            "None\n",
            "None\n"
          ]
        }
      ],
      "source": [
        "import time\n",
        "r.set(name=\"ttl_key\", value=\"essa chave vai pro beleleu em breve...\", ex=10)\n",
        "for i in range(15):\n",
        "  print(r.get(name=\"ttl_key\"))\n",
        "  time.sleep(1)"
      ]
    }
  ],
  "metadata": {
    "colab": {
      "provenance": [],
      "include_colab_link": true
    },
    "kernelspec": {
      "display_name": "Python 3",
      "name": "python3"
    },
    "language_info": {
      "name": "python"
    }
  },
  "nbformat": 4,
  "nbformat_minor": 0
}