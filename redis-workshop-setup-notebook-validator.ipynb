{
  "cells": [
    {
      "cell_type": "markdown",
      "metadata": {
        "id": "view-in-github",
        "colab_type": "text"
      },
      "source": [
        "<a href=\"https://colab.research.google.com/github/gacerioni/redis-workshop-notebook-validator/blob/master/redis-workshop-setup-notebook-validator.ipynb\" target=\"_parent\"><img src=\"https://colab.research.google.com/assets/colab-badge.svg\" alt=\"Open In Colab\"/></a>"
      ]
    },
    {
      "cell_type": "markdown",
      "metadata": {
        "id": "MvZnhXr0L3K3"
      },
      "source": [
        "# Preparando e testando os recursos necessários para o nosso Workshop!\n",
        "\n",
        "![Redis](https://upload.wikimedia.org/wikipedia/commons/e/ee/Redis_logo.svg)\n",
        "\n",
        "**Bem-vind[ao]s ao setup inicial e onboarding do Workshop Hands-On de Redis Cloud!**\n",
        "\n",
        "Este notebook tem um objetivo bem simples e direto: garantir que tudo está pronto e funcionado para o workshop técnico que vocês terão a seguir, utilizando uma estação de trabalho ou um laptop pessoal.\n",
        "\n",
        "**Outcomes:**\n",
        "\n",
        "\n",
        "*   Criar uma conta no Redis Cloud, e configurar um DB Free Forever (Essentials) para cada indivíduo. Pra chamar o Redis de seu.\n",
        "*   Garantir que vocês conseguem executar comandos locais aqui no Notebook. O único requisito é ter uma conta no Google. Nada será executado no seu ambiente diretamente.\n",
        "* Efetuar os testes básicos de conectividade, do notebook (este Collab) com a sua instância do Redis Cloud pessoal.\n",
        "* Instalar e configurar o Redis Insight (GUI).\n",
        "\n",
        "Vamos lá!\n",
        "\n",
        "![Redis](https://redis.com/wp-content/themes/wpx/assets/images/logo-redis.svg?auto=webp&quality=85,75&width=120)\n",
        "\n",
        "\n"
      ]
    },
    {
      "cell_type": "markdown",
      "source": [
        "# Criando uma conta pessoal no Redis Cloud - Free Forever\n",
        "\n",
        "\n",
        "## Para provisionar uma instância free-forever do Redis Cloud:\n",
        "\n",
        "- Acesse https://redis.com/try-free/\n",
        "- Registre com o seu email (gmail é uma boa pedida)\n",
        "- Crie a subscription with do free tier (não precisa de cartão de crédito, sem gotchas)\n",
        "\n",
        "O onboarding atual do Redis Cloud já vai te levar a criar um DB inicial, e ele é exatamente o que precisamos.\n",
        "\n",
        "---\n",
        "\n",
        "## Em detalhes - passo a passo:\n",
        "\n",
        "\n",
        "### Passo 1 - Criar a sua conta no Redis Cloud\n",
        "\n",
        "Na página do [Try Free](https://redis.io/try-free/), basta fazer o processo de Sign Up que será apresentado logo na landing page.\n",
        "\n",
        "![signup](https://github.com/gacerioni/redis-workshop-notebook-validator/blob/master/static/redis_cloud_signup_ui.png?raw=true)\n",
        "\n",
        "\n",
        "**Feito isso, você irá ir para a página de conclusão, e uma mensagem dizendo pra você concluir a ativação da conta pelo e-mail que fora enviado.**\n",
        "\n",
        "![signup-confirmation-ui](https://github.com/gacerioni/redis-workshop-notebook-validator/blob/master/static/redis_cloud_signup_confirmation.png?raw=true)\n",
        "\n",
        "**E o email, que se parece com isso daqui:**\n",
        "\n",
        "![signup-confirmation-email](https://github.com/gacerioni/redis-workshop-notebook-validator/blob/master/static/redis_cloud_signup_email_confirmation.png?raw=true)\n",
        "\n",
        "\n",
        "**Perfeito! Chegamos ao fim do Passo 1.**\\\n",
        "Vamos em frente! 🚀\n",
        "\n",
        "---\n",
        "\n",
        "\n"
      ],
      "metadata": {
        "id": "Fl1KMzBa0D6R"
      }
    },
    {
      "cell_type": "markdown",
      "source": [
        "### Passo 2 - Setup do Database no Redis Cloud\n",
        "\n",
        "Não se preocupe se a sua jornada não tiver sido exatamente essa. No final das contas, a gente só quer um db redis com um endpoint público... pouco importa a forma que chegamos lá. 🖖\n",
        "\n",
        "Ao clicar no link do e-email de *confirmação* do seu **Sign Up**, você irá se deparar com esta landing page:\n",
        "\n",
        "![create-db-landing-page](https://github.com/gacerioni/redis-workshop-notebook-validator/blob/master/static/redis_cloud_landing_page_create_initial_db.png?raw=true)\n",
        "\n",
        "**Aqui, vamos de AWS mesmo.**\\\n",
        "Não existe efeito nenhum que possa afetar a qualidade de nossa demo, independentemente do Cloud Service Provider que estiver disponível aí pra vocês.\n",
        "\n",
        "Portanto, escolha sa-east-1, e simplesmente o botão: **Let's start free**. 👆\n",
        "\n",
        "---\n",
        "\n",
        "\n"
      ],
      "metadata": {
        "id": "BPv_AHbqDqJG"
      }
    },
    {
      "cell_type": "markdown",
      "source": [
        "### Passo 3 - Verificando o seu novo Banco de Dados no Redis Cloud\n",
        "\n",
        "**Parabéns! Já fizemos o trabalho pesado.**\\\n",
        "Agora é validar e fechar com chave de ouro. 🔑🥇\n",
        "\n",
        "Se tudo deu certo, estamos com a Subscription (o DB nesse caso, sem cluster) pronta para uso!\n",
        "\n",
        "![subscriptions](https://github.com/gacerioni/redis-workshop-notebook-validator/blob/master/static/redis_cloud_subscription_ui.png?raw=true)\n",
        "\n",
        "\n",
        "Clique no banco de dados. Neste caso: `Redis-free-db`.\n",
        "\n",
        "**Você irá se deparar com a página central do Database:**\n",
        "\n",
        "![database](https://github.com/gacerioni/redis-workshop-notebook-validator/blob/master/static/redis_cloud_database_ui.png?raw=true)\n",
        "\n",
        "\n",
        "Note que já temos o endpoint público aí. Pra fechar uma string de conexão, portanto, só precisamos de uma credencial.\n",
        "\n",
        "**Para evitar complexidades de *RBAC*, vamos pegar a senha default do banco de dados a seguir.**\n",
        "\n",
        "Desça um pouco na página, e você irá se deparar com a caixa de **Security**.\n",
        "E era isso. Tome nota da sua senha e vamos em frente!\n",
        "\n",
        "![security-pwd](https://github.com/gacerioni/redis-workshop-notebook-validator/blob/master/static/redis_cloud_database_security_ui.png?raw=true)\n",
        "\n",
        "---\n"
      ],
      "metadata": {
        "id": "QNeYbve-D2OG"
      }
    },
    {
      "cell_type": "markdown",
      "source": [
        "### Passo 4 - Reta final - Testando a conectividade com o Redis Cloud DB\n",
        "\n",
        "O primeiro passo é instalar a CLI do redis, a `redis-cli`, aqui no Notebook mesmo."
      ],
      "metadata": {
        "id": "EVVIEtfdD5By"
      }
    },
    {
      "cell_type": "code",
      "execution_count": 38,
      "metadata": {
        "colab": {
          "base_uri": "https://localhost:8080/"
        },
        "id": "maAiICvM-cTX",
        "outputId": "01a42499-7dac-4e6c-fcc1-3142c0e716b0"
      },
      "outputs": [
        {
          "output_type": "stream",
          "name": "stdout",
          "text": [
            "\r0% [Working]\r            \rHit:1 https://cloud.r-project.org/bin/linux/ubuntu jammy-cran40/ InRelease\n",
            "Hit:2 https://developer.download.nvidia.com/compute/cuda/repos/ubuntu2204/x86_64  InRelease\n",
            "Get:3 http://security.ubuntu.com/ubuntu jammy-security InRelease [110 kB]\n",
            "Hit:4 http://archive.ubuntu.com/ubuntu jammy InRelease\n",
            "Get:5 http://archive.ubuntu.com/ubuntu jammy-updates InRelease [119 kB]\n",
            "Hit:6 https://ppa.launchpadcontent.net/c2d4u.team/c2d4u4.0+/ubuntu jammy InRelease\n",
            "Hit:7 https://ppa.launchpadcontent.net/deadsnakes/ppa/ubuntu jammy InRelease\n",
            "Hit:8 https://ppa.launchpadcontent.net/graphics-drivers/ppa/ubuntu jammy InRelease\n",
            "Hit:9 http://archive.ubuntu.com/ubuntu jammy-backports InRelease\n",
            "Hit:10 https://ppa.launchpadcontent.net/ubuntugis/ppa/ubuntu jammy InRelease\n",
            "Fetched 229 kB in 1s (179 kB/s)\n",
            "Reading package lists... Done\n",
            "Reading package lists... Done\n",
            "Building dependency tree... Done\n",
            "Reading state information... Done\n",
            "redis-tools is already the newest version (5:6.0.16-1ubuntu1).\n",
            "0 upgraded, 0 newly installed, 0 to remove and 45 not upgraded.\n"
          ]
        }
      ],
      "source": [
        "# Vamos instalar a lib do redis escolhida para o teste\n",
        "!pip install -q redis\n",
        "\n",
        "# E instalar a CLI, via redis-tools, que inclui a famosa redis-cli\n",
        "!apt-get update\n",
        "!apt-get install -y redis-tools"
      ]
    },
    {
      "cell_type": "markdown",
      "metadata": {
        "id": "pD9QIlpeKs3o"
      },
      "source": [
        "#### Configurando e testando a conexão com o seu Redis escolhido\n",
        "\n",
        "Coloque o endpoint host, port, e as credenciais pertinentes ao seu setup.\n",
        "\n",
        "Vou deixar o meu DB mesmo aqui, como referência."
      ]
    },
    {
      "cell_type": "code",
      "execution_count": 39,
      "metadata": {
        "id": "x47s7mlR_zYB"
      },
      "outputs": [],
      "source": [
        "import os\n",
        "\n",
        "# Coloque aqui os dados do seu DB do Redis Cloud:\n",
        "REDIS_HOST=\"redis-18582.c308.sa-east-1-1.ec2.redns.redis-cloud.com\"\n",
        "REDIS_PORT=18582\n",
        "REDIS_PASSWORD=\"wcEps72zue2SoHMZs7Al1EdKSYzFm0sT\"\n",
        "\n",
        "# Caso o SSL esteja ativo pro endpoint, adicione --tls\n",
        "# Recomendo não misturar lé com cré aqui, visto que não vamos ter nenhuma informação sensível passando pelo fio.\n",
        "if REDIS_PASSWORD!=\"\":\n",
        "  os.environ[\"REDIS_CONN\"]=f\"-h {REDIS_HOST} -p {REDIS_PORT} -a {REDIS_PASSWORD} --no-auth-warning\"\n",
        "else:\n",
        "  os.environ[\"REDIS_CONN\"]=f\"-h {REDIS_HOST} -p {REDIS_PORT}\"\n",
        "\n",
        "# Caso o SSL esteja ativo pro endpoint, use rediss:// como o prefixo da URL\n",
        "REDIS_URL = f\"redis://:{REDIS_PASSWORD}@{REDIS_HOST}:{REDIS_PORT}\"\n"
      ]
    },
    {
      "cell_type": "markdown",
      "metadata": {
        "id": "Mnyz8NjaNz8T"
      },
      "source": [
        "#### Checkpoint - Teste básico direto via Redis CLI\n",
        "\n",
        "Vamos testar a conectividade via redis-cli também, pois vamos usá-la eventualmente ao longo dos workshops."
      ]
    },
    {
      "cell_type": "code",
      "execution_count": 40,
      "metadata": {
        "colab": {
          "base_uri": "https://localhost:8080/"
        },
        "id": "6FFP3eCRBTzk",
        "outputId": "2efeece8-0cc2-4267-9ee5-20d82c309c03"
      },
      "outputs": [
        {
          "output_type": "stream",
          "name": "stdout",
          "text": [
            "Verificando a conexão com o Redis...\n",
            "Resposta do PING: PONG\n",
            "Definindo um valor no Redis...\n",
            "Resposta do SET: OK\n",
            "Obtendo o valor do Redis...\n",
            "Resposta do GET: \"42\"\n",
            "\n",
            "#######################################################################\n",
            "A configuração do Redis via CLI está correta! Parabéns!\n",
            "#######################################################################\n"
          ]
        }
      ],
      "source": [
        "# Verificar se a conexão está sendo bem-sucedida daqui de dentro\n",
        "print(\"Verificando a conexão com o Redis...\")\n",
        "resposta_ping = !redis-cli $REDIS_CONN PING\n",
        "print(\"Resposta do PING:\", resposta_ping[0])\n",
        "\n",
        "# Definir um valor no Redis\n",
        "print(\"Definindo um valor no Redis...\")\n",
        "resposta_set = !redis-cli $REDIS_CONN SET repostafinal 42\n",
        "print(\"Resposta do SET:\", resposta_set[0])\n",
        "\n",
        "# Obter o valor do Redis\n",
        "print(\"Obtendo o valor do Redis...\")\n",
        "resposta_get = !redis-cli $REDIS_CONN GET repostafinal\n",
        "print(\"Resposta do GET:\", resposta_get[0])\n",
        "\n",
        "print(\"\")\n",
        "print(\"#######################################################################\")\n",
        "# Verificar se o valor obtido é o esperado\n",
        "if int(resposta_get[0].strip('\"')) == 42:\n",
        "    print(\"A configuração do Redis via CLI está correta! Parabéns!\")\n",
        "else:\n",
        "    print(\"Houve um problema na configuração do Redis. Estamos quase lá!\")\n",
        "print(\"#######################################################################\")"
      ]
    },
    {
      "cell_type": "markdown",
      "source": [
        "#### Checkpoint - Finalmente testando direto do Python!\n",
        "\n",
        "A seguir, vamos testar a comunicação a partir do Python para o Redis Cloud, utilizando a lib que já instalamos anteriormente (via pip)"
      ],
      "metadata": {
        "id": "afiiw-pRPLKm"
      }
    },
    {
      "cell_type": "code",
      "source": [
        "import redis\n",
        "\n",
        "r = redis.Redis(\n",
        "  host=REDIS_HOST,\n",
        "  port=REDIS_PORT,\n",
        "  password=REDIS_PASSWORD)\n",
        "\n",
        "# Verificar a conexão com o Redis\n",
        "try:\n",
        "    print(\"Verificando a conexão com o Redis...\")\n",
        "    resposta_ping = r.ping()\n",
        "    if resposta_ping:\n",
        "        print(\"Resposta do PING: PONG\")\n",
        "except redis.ConnectionError:\n",
        "    print(\"Erro: Não foi possível conectar ao Redis.\")\n",
        "\n",
        "# Definir um valor no Redis\n",
        "print(\"Definindo um valor no Redis...\")\n",
        "r.set(\"repostafinal\", \"42\")\n",
        "print(\"Resposta do SET: OK\")\n",
        "\n",
        "# Obter o valor do Redis\n",
        "print(\"Obtendo o valor do Redis...\")\n",
        "resposta_get = r.get(\"repostafinal\")\n",
        "print(\"Resposta do GET:\", resposta_get)\n",
        "\n",
        "print(\"\")\n",
        "print(\"#######################################################################\")\n",
        "# Verificar se o valor obtido é o esperado\n",
        "if resposta_get == b'42':\n",
        "    print(\"A configuração do Redis via Python está correta! Parabéns!\")\n",
        "else:\n",
        "    print(\"Houve um problema na configuração do Redis. Estamos quase lá!\")\n",
        "print(\"#######################################################################\")"
      ],
      "metadata": {
        "id": "VmYBOpfaPd_e",
        "outputId": "34627980-ecd9-47bf-c39d-335ded97a573",
        "colab": {
          "base_uri": "https://localhost:8080/"
        }
      },
      "execution_count": 41,
      "outputs": [
        {
          "output_type": "stream",
          "name": "stdout",
          "text": [
            "Verificando a conexão com o Redis...\n",
            "Resposta do PING: PONG\n",
            "Definindo um valor no Redis...\n",
            "Resposta do SET: OK\n",
            "Obtendo o valor do Redis...\n",
            "Resposta do GET: b'42'\n",
            "\n",
            "#######################################################################\n",
            "A configuração do Redis via Python está correta! Parabéns!\n",
            "#######################################################################\n"
          ]
        }
      ]
    },
    {
      "cell_type": "markdown",
      "source": [
        "#### Passo 5 - Configurar o Redis Insight (GUI) no seu computador\n",
        "\n",
        "Este carinha aqui é o Cockpit do Desenvolvedor. É a casa do Data Engineer, do DBA, do cara de Machine Learning. Pra gente.\n",
        "\n",
        "Você pode usar o Redis Insigh com qualquer sabor de Redis: source available, redis-stack, redis Software, redis Cloud.\n",
        "\n",
        "**Vamos lá:**\n",
        "\n",
        "1.   Acesse a página de Download do Redis Insight [aqui](https://redis.io/insight/).\n",
        "2.   Baixe e instale a GUI pertinente ao seu sistema (macOS, Linux, Windows)\n",
        "3.   Abra o **Redis Insight**.\n",
        "4.   Dica: Você pode definir preferências, como o tema Dark; Você pode configurar o Copilot, etc.\n",
        "\n",
        "\n",
        "**Vamos agora configurar uma conexão com o nosso Banco de Dados que criamos no Redis Cloud:**\n",
        "\n",
        "1.   Clique em `+ Add Redis database`\n",
        "2.   Preencha a configurações do lado direito. Exemplo com o meu db:\\\n",
        "![redis-insight-create-db](https://github.com/gacerioni/redis-workshop-notebook-validator/blob/master/static/redis_insight_create_db_conn.png?raw=true)\n",
        "3. Se tudo estiver certinho, você verá essa mensagem de confirmação:\\\n",
        "![redis-insight-create-db-confirmation](https://github.com/gacerioni/redis-workshop-notebook-validator/blob/master/static/redis_insight_create_db_conn_confirmation.png?raw=true)\n",
        "4. Agora basta clicar no Banco de Dados recém configurado, e voilà!\n",
        "\n",
        "**Alguns dados já devem estar lá, com toda a Durabilidade do Redis Cloud.**\n",
        "\n",
        "![redis-insight-mission-accomplished](https://github.com/gacerioni/redis-workshop-notebook-validator/blob/master/static/redis_insight_mission_accomplished.png?raw=true)"
      ],
      "metadata": {
        "id": "kc9CNjc8Y9-P"
      }
    },
    {
      "cell_type": "markdown",
      "source": [
        "### Linha de Chegada!!! Parabéns!\n",
        "\n",
        "Estamos prontos para ir pra algum lugar a partir daqui.\\\n",
        "Não sei exatamente pra onde, mas sei de uma coisa: estamos bem preparados! ⚔\n",
        "\n",
        "![finish-line](https://github.com/gacerioni/redis-workshop-notebook-validator/raw/master/static/gabs_staff_cave_mmorpg.webp)\n",
        "\n",
        "\n",
        "---\n",
        "#### Rode esse carinha aqui abaixo 👇 para uma **AWS Lambda** me avisar que você chegou ao fim do nosso primeiro capítulo! 🐎"
      ],
      "metadata": {
        "id": "23kuqN62gOMf"
      }
    },
    {
      "cell_type": "code",
      "source": [
        "import requests\n",
        "\n",
        "api_url = 'https://bvef44ja74.execute-api.us-east-1.amazonaws.com/default/gabs-log-when-finishes-setup'\n",
        "\n",
        "def registrar_conclusao():\n",
        "    response = requests.post(api_url)\n",
        "    if response.status_code == 200:\n",
        "        print(\"Conclusão registrada com sucesso!\")\n",
        "    else:\n",
        "        print(\"Falha ao registrar a conclusão. Código de status:\", response.status_code)\n",
        "\n",
        "registrar_conclusao()\n"
      ],
      "metadata": {
        "id": "2dKePAIBuQpj",
        "outputId": "a7bbf516-a9c1-48eb-9929-516edc3b35dc",
        "colab": {
          "base_uri": "https://localhost:8080/"
        }
      },
      "execution_count": 44,
      "outputs": [
        {
          "output_type": "stream",
          "name": "stdout",
          "text": [
            "Conclusão registrada com sucesso!\n"
          ]
        }
      ]
    },
    {
      "cell_type": "markdown",
      "metadata": {
        "id": "zR1iwtIVPDQB"
      },
      "source": [
        "### TTL - Time To Live - Just for fun\n",
        "\n",
        "Um sistema de Caching robusto provavelmente estará gerenciando quanto tempo cada valor fica no cache. Temos libs, SDKs, e o RDI pra facilitar isso, mas vamos deixar esse papo pra outro workshop. Só lembrar que existem opções com o Redis (RDI) onde você nem precisaria cuidar do Cache Layer.\n",
        "\n",
        "Enfim, vamos brincar aqui só pra garantir que o Setup está pronto pro Samba!\n",
        "\n",
        "Redis permite que você controle esses comportamentos de TTL utilizando flags, como EX/EXAT/etc.\n",
        "\n",
        "Para mais informações sobre este tema tão importante, veja (depois) https://redis.io/commands/set/"
      ]
    },
    {
      "cell_type": "code",
      "execution_count": 42,
      "metadata": {
        "colab": {
          "base_uri": "https://localhost:8080/"
        },
        "id": "PlVwgknTODE1",
        "outputId": "d0d027aa-0f80-4ca7-d375-bd282cdd0d11"
      },
      "outputs": [
        {
          "output_type": "stream",
          "name": "stdout",
          "text": [
            "b'essa chave vai pro beleleu em breve...'\n",
            "b'essa chave vai pro beleleu em breve...'\n",
            "b'essa chave vai pro beleleu em breve...'\n",
            "b'essa chave vai pro beleleu em breve...'\n",
            "b'essa chave vai pro beleleu em breve...'\n",
            "b'essa chave vai pro beleleu em breve...'\n",
            "b'essa chave vai pro beleleu em breve...'\n",
            "b'essa chave vai pro beleleu em breve...'\n",
            "b'essa chave vai pro beleleu em breve...'\n",
            "None\n",
            "None\n",
            "None\n",
            "None\n",
            "None\n",
            "None\n"
          ]
        }
      ],
      "source": [
        "import time\n",
        "r.set(name=\"ttl_key\", value=\"essa chave vai pro beleleu em breve...\", ex=10)\n",
        "for i in range(15):\n",
        "  print(r.get(name=\"ttl_key\"))\n",
        "  time.sleep(1)"
      ]
    }
  ],
  "metadata": {
    "colab": {
      "provenance": [],
      "include_colab_link": true
    },
    "kernelspec": {
      "display_name": "Python 3",
      "name": "python3"
    },
    "language_info": {
      "name": "python"
    }
  },
  "nbformat": 4,
  "nbformat_minor": 0
}